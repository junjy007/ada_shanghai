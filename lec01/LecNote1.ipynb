{
 "cells": [
  {
   "cell_type": "markdown",
   "metadata": {},
   "source": [
    "# A Brief Introduction to Machine Learning"
   ]
  },
  {
   "cell_type": "markdown",
   "metadata": {},
   "source": [
    "## Data Analytics and Machine Intelligence"
   ]
  },
  {
   "cell_type": "markdown",
   "metadata": {},
   "source": [
    "### Testing a Simple Hypothesis"
   ]
  },
  {
   "cell_type": "markdown",
   "metadata": {},
   "source": [
    "With all the different titles, the core of our business is to extract information from data. Arguably, the simplest form of \"a piece of information\" is to answer a yes/no question. Let us start from a basic and classic method of extracting such kind of information from data: \n",
    "\n",
    "> Should I accept or reject a hypothesis about the data.\n",
    "\n",
    "To be concrete, let's get our old friend iris flowers as sample data."
   ]
  },
  {
   "cell_type": "markdown",
   "metadata": {},
   "source": [
    "__Load Data__"
   ]
  },
  {
   "cell_type": "code",
   "execution_count": 1,
   "metadata": {},
   "outputs": [
    {
     "name": "stdout",
     "output_type": "stream",
     "text": [
      "Attributes:  ['sepal length (cm)', 'sepal width (cm)', 'petal length (cm)', 'petal width (cm)']\n",
      "Targets:  ['setosa' 'versicolor' 'virginica']\n",
      "Sample  0\n",
      "    X-observation: [5.1 3.5 1.4 0.2]\n",
      "    y: 0 setosa\n"
     ]
    }
   ],
   "source": [
    "# Get some data\n",
    "from sklearn.datasets import load_iris\n",
    "iris_db = load_iris()\n",
    "print(\"Attributes: \", iris_db.feature_names)\n",
    "print(\"Targets: \", iris_db.target_names)\n",
    "example_id = 0\n",
    "X = iris_db.data   # the attributes / independent variables\n",
    "y = iris_db.target # the prediction target / response\n",
    "print(\"Sample \", example_id)\n",
    "print(\"    X-observation:\", X[example_id])\n",
    "print(\"    y:\", y[example_id], iris_db.target_names[y[example_id]])"
   ]
  },
  {
   "cell_type": "markdown",
   "metadata": {},
   "source": [
    "<span style=\"color:blue\">__Practice__</span>\n",
    "- How many flowers in the data?\n",
    "- Given one flower, what are the independent variables and what is the target/label?\n",
    "- Try to frame the lable-prediction problem in Yes/No questions.\n",
    "    - Remove the class \"virginica\" (class-label==2), from the dataset. Then frame the new problem as yes/no questions."
   ]
  },
  {
   "cell_type": "markdown",
   "metadata": {},
   "source": [
    "__Visualise the Data__"
   ]
  },
  {
   "cell_type": "code",
   "execution_count": 3,
   "metadata": {},
   "outputs": [],
   "source": [
    "# prepare the canvas\n",
    "%matplotlib inline\n",
    "import matplotlib.pyplot as plt"
   ]
  },
  {
   "cell_type": "code",
   "execution_count": 11,
   "metadata": {},
   "outputs": [
    {
     "data": {
      "image/png": "[encoded data removed]",
      "text/plain": [
       "<matplotlib.figure.Figure at 0x1a1c790400>"
      ]
     },
     "metadata": {},
     "output_type": "display_data"
    }
   ],
   "source": [
    "# scatter plot the data samples as a point on the X0-X1 plane\n",
    "# using 3 colours for samples belonging to the 3 classes.\n",
    "plt.scatter(X[y==0, 0], X[y==0, 1], c='red')\n",
    "plt.scatter(X[y==1, 0], X[y==1, 1], c='green')\n",
    "plt.scatter(X[y==2, 0], X[y==2, 1], c='blue')\n",
    "# setup auxiliary information in the graph\n",
    "plt.xlabel(\"x0\")\n",
    "plt.ylabel(\"x1\")\n",
    "plt.legend(iris_db.target_names)\n",
    "plt.show()"
   ]
  },
  {
   "cell_type": "markdown",
   "metadata": {},
   "source": [
    "<span style=\"color:blue\">__Practice__</span>\n",
    "- Draw the data w.r.t. X1-X2.\n",
    "- Draw the data w.r.t. all possible 2-variable combination.\n",
    "- Try to compute the mean value of the variable-pair for all classes\n",
    "- Remove class \"virginica\" and draw the data using X0, X1."
   ]
  },
  {
   "cell_type": "markdown",
   "metadata": {},
   "source": [
    "<span style=\"color:blue\">__Discussion__</span>\n",
    "- Come up with a plan to classify between class \"setosa\" and \"versicolor\".\n",
    "- Evaluate your plan using some criterion on the data.\n",
    "    - Justify the criterion you had chosen.\n",
    "    - <span style=\"color:blue\">__Practice__</span>: implement your criterion.\n",
    "- Based on what we had learned in the last semester, could you identify any issue of the procedure above?\n",
    "- How to address the issue? Come up with a plan and implement your plan."
   ]
  },
  {
   "cell_type": "markdown",
   "metadata": {},
   "source": [
    "### Select a good hypothesis"
   ]
  },
  {
   "cell_type": "code",
   "execution_count": 37,
   "metadata": {},
   "outputs": [],
   "source": [
    "import random\n",
    "def generate_h(attr_num, low_vals, high_vals):\n",
    "    j = random.randint(0, attr_num - 1)\n",
    "    th = random.random() * (high_vals[j] - low_vals[j]) \\\n",
    "        + low_vals[j]\n",
    "    direction = random.randint(0, 1)\n",
    "    return j, th, direction\n",
    "\n",
    "def h_fit(X, y, h_num):\n",
    "    N = X.shape[0]\n",
    "    best_accuracy = 0\n",
    "    best_h = None\n",
    "    for i in range(h_num):\n",
    "        \n",
    "        (j, th, direction) = generate_h(4, X.min(axis=0), X.max(axis=0))\n",
    "        \n",
    "        if direction == 1: # direction\n",
    "            a = ((X[:, j] > th) == y).sum()\n",
    "        else:\n",
    "            a = ((X[:, j] <= th) == y).sum()\n",
    "        if a > best_accuracy:\n",
    "            best_accuracy = a\n",
    "            best_h = (j, th, direction)\n",
    "    return best_h"
   ]
  },
  {
   "cell_type": "code",
   "execution_count": 42,
   "metadata": {},
   "outputs": [
    {
     "data": {
      "text/plain": [
       "(0, 5.15740236111902, 1)"
      ]
     },
     "execution_count": 42,
     "metadata": {},
     "output_type": "execute_result"
    }
   ],
   "source": [
    "# Take only the first 2 classes\n",
    "X2c = X[y!=2, :]\n",
    "y2c = y[y!=2]\n",
    "h_fit(X2c, y2c, 10)"
   ]
  },
  {
   "cell_type": "code",
   "execution_count": 56,
   "metadata": {},
   "outputs": [
    {
     "data": {
      "image/png": "[encoded data removed]",
      "text/plain": [
       "<matplotlib.figure.Figure at 0x1a1e1c7b00>"
      ]
     },
     "metadata": {},
     "output_type": "display_data"
    },
    {
     "data": {
      "text/plain": [
       "<matplotlib.collections.PathCollection at 0x1a1e2cddd8>"
      ]
     },
     "execution_count": 56,
     "metadata": {},
     "output_type": "execute_result"
    },
    {
     "data": {
      "image/png": "[encoded data removed]",
      "text/plain": [
       "<matplotlib.figure.Figure at 0x1a1df586d8>"
      ]
     },
     "metadata": {},
     "output_type": "display_data"
    }
   ],
   "source": [
    "# Show the classification results\n",
    "plt.scatter(X2c[:, 0], X2c[:, 2], c=y2c)\n",
    "plt.show()\n",
    "index = X2c[:, 0] > 5.16\n",
    "plt.scatter(X2c[:, 0], X2c[:, 2], c=index)"
   ]
  },
  {
   "cell_type": "markdown",
   "metadata": {},
   "source": [
    "## Framework of learning"
   ]
  },
  {
   "cell_type": "markdown",
   "metadata": {},
   "source": [
    "A typical learning procedure is as follows\n",
    "\n",
    "```python\n",
    "while more_to_learn:\n",
    "    data, annotation = data_feeder.next()\n",
    "    prediction = model.processor(data)\n",
    "    loss = model.evaluation_criterion(prediction, annotation)\n",
    "    model.optimiser(loss)\n",
    "```\n",
    "\n",
    "This is different from a conventional data analyst's view point!"
   ]
  },
  {
   "cell_type": "markdown",
   "metadata": {},
   "source": [
    "We can recognise the following key components: Data (`data_feeder`), Processor (`model.processor`), Evaluation criterion (`model.evaluation_criterion`), Optimiser (`model.optimiser`). \n",
    "\n",
    "The interaction between those elements in a learning process is explained by the following diagram.\n",
    "<img src=\"ref/illu1.png\" width=\"400px\"/>\n",
    "\n",
    "The essential four:\n",
    "\n",
    "(1) `data_feeder` will provide two pieces of information about a set of data instances during learning. Let's call them $X$ and $Y$-variables, respectively. $X$-variables can be seen as the information based on which we build the predictor, $Y$-variables are the target of prediction.  $X$-variables also known as _independent variables_, _predictors_ in literature, and $Y$-variables _dependent variables_, _response_. The essential distinction is that\n",
    "> $X$-variables represent the part of information in the task that is always observable, even after the learning (training) and the model has been deployed; while the $Y$-variables are only available to us during learning. In test time, they are unknown and target of prediction.\n",
    "\n",
    "Then you may notice the processor, evaluation criterion and the optimiser are grouped in the `model` object. This is to emphasise the fact that these parts are under our control, and reflects our ASSUMPTION on how the world works: \n",
    "i) how $X$ variables are related to the $Y$ (`model.predictor`), in a _learnable_ way (see (iii) below);\n",
    "ii) what makes a good model (`model.evaluation_criterion`, defining the performance gauge); and\n",
    "iii) how can we modify the predictor in (i) w.r.t. observed training ($X$, $Y$) pairs to improve the performance measured by (ii).\n"
   ]
  },
  {
   "cell_type": "markdown",
   "metadata": {},
   "source": [
    "(2) `predictor` describes how $X$ variables are related to the $Y$ variables. The predictor represents the \"data model\" in a more specific sense. When dealing with any particular task, we need to clarify the notion of \"data model\", though.\n",
    "\n",
    "In the early stage of solving a problem, I often find it is more convenient to adopt the principle of \"duck-typing\" to the notion of \"data model\" than to forge an explicit definition. We start by considering what a model can do, i.e. the typical application of a model. Assume for a while some black box data model is prepared by oracle. Then what the input and output of the black box? Typically, a model that can\n",
    "- accept instances of $X$-variables and output the corresponding $Y$-variables\n",
    "    - there are variants of data models in this category -- deterministic models (often closely linked to the notion \"greedy\" in literature) and stochastic models.\n",
    "- accept $(X, Y)$ pairs and output how likely such a combination appears.\n",
    "    - [Q]: Can you imagine, given such a model, how we can re-formulate such a model so to get $Y$ for given $X$?"
   ]
  },
  {
   "cell_type": "markdown",
   "metadata": {},
   "source": [
    "(3) `loss` measures, **in the training stage**, how well the predictor's outputs match what are desired (annotations). \n",
    "\n",
    "Note the loss is NOT necessarily consistent with what really matters -- which is dictated by the specific data analysis scenarios.\n",
    "\n",
    "Please distinguish the following two risks of using a learned data model: \n",
    "- i) The mis-alignment between the loss and the actual criteria -- what is discussed above.\n",
    "- ii) The generalisation risk, the discrepancy between the model performance on training and test data, both measured by the same `loss` function -- we had learned previously in introduction to DA, and you heard more often.\n",
    "\n",
    "We will talk both in greater depth later in this course."
   ]
  },
  {
   "cell_type": "markdown",
   "metadata": {},
   "source": [
    "(4) `optimiser` adjusts the `predictor` -- which is always designed in an adjustable way, so its performance -- measured by `loss` over the instances given by `data_feeder` (make sure to keep in mind these qualifications) -- reaches optimum. This mostly represents the algorithmically actionable learning steps, i.e. the heavy-lifting operations to produce an optimal predictor, which is the final output of the learning process, often considered the selected one ($h$) from a \"hypothesis set\" $\\mathcal H$ in more theoretical works in literature.\n",
    "\n",
    "The optimiser models the solver of the problem: given the data, the loss and the formulation of the predictors, find the optimal predictor. In almost all paractical problems, the true optimum is beyond our reach: \n",
    "- it may not exist, for function as simple as $f(x) = x$\n",
    "$$\n",
    "\\max_{x \\in [0, 1)} f(x)\n",
    "$$\n",
    "doesn't have a solution.\n",
    "- there maybe duplicate (lots of) optima, \n",
    "$$\n",
    "\\max_{x_1, x_2, \\dots, x_{10} \\in \\{0, 1\\}} f(x_1, \\dots, x_{10}) \\\\\n",
    "f(x_1, \\dots, x_{10}) := \\sum_{i,j = 1..10} |x_i - x_j|\n",
    "$$\n",
    "\n",
    "In practice, the optimiser is often formulated in such a way:\n",
    "- __descriptive__: at this point, I cannot get the predictor any better w.r.t. the criterion, often called _local_ optimum\n",
    "- __imperative__: consider the local optimality as actionable step, the strategy often works (but not guaranteed always) -- then we have described a _fixed point_ in the space consisting of all predictor model parameters.\n"
   ]
  },
  {
   "cell_type": "markdown",
   "metadata": {},
   "source": [
    "I will provide data modelling examples, and we will\n",
    "\n",
    "- Discussion-1: identify the data_feeder, the predictor, the loss and the optimiser in the following example.\n",
    "\n",
    "<img src=\"ref/illu-knime.png\" width=\"400px\"/>\n",
    "\n",
    "- Discussion-2: identify the X-Y variables in the data.\n",
    "\n",
    "- Discussion-3: an example of predictor (not necessarily a good-behaving one).\n",
    "\n",
    "- Discussion-4: Do you think decision trees in MNIST a good model, yes/no/why?"
   ]
  },
  {
   "cell_type": "code",
   "execution_count": null,
   "metadata": {},
   "outputs": [],
   "source": [
    "# We will playing with the following example for a while\n",
    "# Let me first give it in a whole block\n",
    "\n",
    "# prepare libraries\n",
    "from sklearn.datasets import load_iris\n",
    "import torch\n",
    "import torch.nn as nn\n",
    "from torch.utils.data import Dataset, DataLoader, random_split\n",
    "from torchvision.datasets import MNIST\n",
    "\n",
    "# Formal handling of our data\n",
    "class TensorIrisDataset(Dataset):\n",
    "    def __init__(self, iris_data): # class constructor\n",
    "        super(TensorIrisDataset, self).__init__()\n",
    "        self.data = torch.Tensor(iris_data.data)\n",
    "        self.target = torch.LongTensor(iris_data.target)\n",
    "        \n",
    "    def __len__(self):\n",
    "        return self.data.shape[0]\n",
    "    \n",
    "    def __getitem__(self, ind):\n",
    "        return self.data[ind], self.target[ind]\n",
    "        \n",
    "\n",
    "d_trn, d_tst = random_split(d, [100, 50])        \n"
   ]
  },
  {
   "cell_type": "code",
   "execution_count": null,
   "metadata": {},
   "outputs": [],
   "source": [
    "d  = TensorIrisDataset(load_iris())\n",
    "p = DataLoader(dataset=d_trn, batch_size=4)\n",
    "for x, y in p:\n",
    "    break\n",
    "print(x,y)"
   ]
  },
  {
   "cell_type": "code",
   "execution_count": null,
   "metadata": {},
   "outputs": [],
   "source": [
    "# In the next lecture, we will review a few data models: \n",
    "# 1. perceptron\n",
    "# 2. neural network\n",
    "# 3. decision tr\n",
    "# on iris data. (optionally on MNIST data as well)"
   ]
  },
  {
   "cell_type": "markdown",
   "metadata": {},
   "source": [
    "# Summarise\n",
    "\n",
    "## Take-home points\n",
    "- Four elements: PLO.D\n",
    "- Two groups of variables, availability in different stages.\n",
    "- What a data model does? Or what specific structure we had assumed about the world and how to put it into use.\n",
    "- Risks (three strikes!)\n",
    "    - Training-test generalisation error (main)\n",
    "    - Inconsistent criterion\n",
    "    - Local optimality\n",
    "    \n",
    "## Programming skills\n",
    "- setting up `colab`\n",
    "- import libraries torch/sklearn\n",
    "- learning loop -- why looping here?\n",
    "- 5-th element: logging!\n",
    "- `class` vs instances: *description* and realisation\n",
    "\n",
    "## Further reading\n",
    "- Fixed point theorem\n",
    "- Why learning works (a short course ...)\n",
    "- Occums' razor\n",
    "- Fallibility"
   ]
  }
 ],
 "metadata": {
  "kernelspec": {
   "display_name": "Python 3",
   "language": "python",
   "name": "python3"
  },
  "language_info": {
   "codemirror_mode": {
    "name": "ipython",
    "version": 3
   },
   "file_extension": ".py",
   "mimetype": "text/x-python",
   "name": "python",
   "nbconvert_exporter": "python",
   "pygments_lexer": "ipython3",
   "version": "3.5.4"
  },
  "toc": {
   "base_numbering": 1,
   "nav_menu": {
    "height": "242px",
    "width": "256px"
   },
   "number_sections": true,
   "sideBar": true,
   "skip_h1_title": false,
   "title_cell": "Table of Contents",
   "title_sidebar": "Contents",
   "toc_cell": false,
   "toc_position": {},
   "toc_section_display": true,
   "toc_window_display": false
  }
 },
 "nbformat": 4,
 "nbformat_minor": 2
}
