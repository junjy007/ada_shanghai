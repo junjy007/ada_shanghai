{
 "cells": [
  {
   "cell_type": "markdown",
   "metadata": {},
   "source": [
    "# Prepare our Iris Dataset"
   ]
  },
  {
   "cell_type": "code",
   "execution_count": 1,
   "metadata": {},
   "outputs": [],
   "source": [
    "from sklearn.datasets import load_iris\n",
    "iris_db = load_iris()\n",
    "X = iris_db.data\n",
    "y = iris_db.target"
   ]
  },
  {
   "cell_type": "markdown",
   "metadata": {},
   "source": [
    "Now `X` is an array, you can try\n",
    "\n",
    "```python\n",
    "type(X) \n",
    "dir(X)  # functions / interfaced provided by the object X\n",
    "X.shape # how many rows / columns in an array\n",
    "```\n",
    "\n",
    "Note `X` is now an array managed by the `numpy` library. We can also let `torch` to handle it by\n",
    "```python\n",
    "X_t = torch.Tensor(X)\n",
    "```\n",
    "\n",
    "Each row of `X` represents one data sample. Try to run a cell of `X[0]`, it will show the 4 attributes of that sample."
   ]
  },
  {
   "cell_type": "markdown",
   "metadata": {},
   "source": [
    "# Construct linear model"
   ]
  },
  {
   "cell_type": "markdown",
   "metadata": {},
   "source": [
    "The simplest way to define a _perceptron_, i.e. a linear model of `X` variables with a non-linear transformation is to \n",
    "i) define the weights for the learning part (ignore the bias term for now)"
   ]
  },
  {
   "cell_type": "code",
   "execution_count": 3,
   "metadata": {},
   "outputs": [],
   "source": [
    "i = 100\n",
    "x1, x2, x3, x4 = X[i]\n",
    "\n",
    "w1 = - 0.4\n",
    "w2 = 0.3\n",
    "w3 = 0.5\n",
    "w4 = -0.7\n",
    "\n",
    "s = w1 * x1 + w2 * x2 + w3 * x3 + w4 * x4\n",
    "\n",
    "# s for \"sum\", the weighted sum of 4 x-variables"
   ]
  },
  {
   "cell_type": "markdown",
   "metadata": {},
   "source": [
    "# Non linear map"
   ]
  },
  {
   "cell_type": "markdown",
   "metadata": {},
   "source": [
    "Let's consider the non-linear map"
   ]
  },
  {
   "cell_type": "code",
   "execution_count": 14,
   "metadata": {},
   "outputs": [],
   "source": [
    "%matplotlib inline\n",
    "import numpy as np\n",
    "import matplotlib.pyplot as plt\n",
    "\n",
    "def relu(pre_a):\n",
    "    return np.maximum(pre_a, 0) # elementise taking the max of the two inputs"
   ]
  },
  {
   "cell_type": "markdown",
   "metadata": {},
   "source": [
    "If s<0, returns 0, if s>=0, returens s."
   ]
  },
  {
   "cell_type": "code",
   "execution_count": 13,
   "metadata": {},
   "outputs": [
    {
     "data": {
      "text/plain": [
       "[<matplotlib.lines.Line2D at 0x115ec8ba8>]"
      ]
     },
     "execution_count": 13,
     "metadata": {},
     "output_type": "execute_result"
    },
    {
     "data": {
      "image/png": "[encoded data removed]",
      "text/plain": [
       "<matplotlib.figure.Figure at 0x115e21320>"
      ]
     },
     "metadata": {},
     "output_type": "display_data"
    }
   ],
   "source": [
    "ss = np.arange(-1, 1, 0.1)\n",
    "rr = relu(ss)\n",
    "plt.plot(ss, rr)"
   ]
  },
  {
   "cell_type": "markdown",
   "metadata": {},
   "source": [
    "__Sigmoid function__"
   ]
  },
  {
   "cell_type": "markdown",
   "metadata": {},
   "source": [
    "$ a = \\frac{1}{1 + \\exp(-s)}$, $e=?$"
   ]
  },
  {
   "cell_type": "code",
   "execution_count": null,
   "metadata": {},
   "outputs": [],
   "source": [
    "# s = -15 \n",
    "# Test here s large or small\n",
    "1/ (np.exp(15) + 1)"
   ]
  },
  {
   "cell_type": "code",
   "execution_count": null,
   "metadata": {},
   "outputs": [],
   "source": [
    "x = np.arange(-15, 15, 0.01)\n",
    "y = 1 / (1+np.exp(-x))"
   ]
  },
  {
   "cell_type": "code",
   "execution_count": null,
   "metadata": {},
   "outputs": [],
   "source": [
    "plt.plot(x, y) # Add x-y labels.\n",
    "plt.show() # sigmoid"
   ]
  },
  {
   "cell_type": "markdown",
   "metadata": {},
   "source": [
    "# Multi-layer neural network"
   ]
  },
  {
   "cell_type": "code",
   "execution_count": null,
   "metadata": {},
   "outputs": [],
   "source": [
    "import torch\n",
    "import torch.nn as nn"
   ]
  },
  {
   "cell_type": "code",
   "execution_count": null,
   "metadata": {},
   "outputs": [],
   "source": [
    "lm1 = nn.Linear(in_features=4, out_features=64)\n",
    "lm2 = nn.Linear(in_features=64, out_features=32)\n",
    "lm3 = nn.Linear(in_features=32, out_features=3)\n",
    "dnn = nn.Sequential(\n",
    "    lm1,\n",
    "    nn.ReLU(),\n",
    "    lm2, \n",
    "    nn.ReLU(),\n",
    "    lm3)\n"
   ]
  },
  {
   "cell_type": "code",
   "execution_count": null,
   "metadata": {},
   "outputs": [],
   "source": [
    "# data\n",
    "X_t = torch.Tensor(X)\n",
    "y_t = torch.LongTensor(iris_db.target)"
   ]
  },
  {
   "cell_type": "code",
   "execution_count": null,
   "metadata": {},
   "outputs": [],
   "source": [
    "from torch.optim import Adam\n",
    "optim = Adam(dnn.parameters())\n",
    "\n",
    "for i in range(50):\n",
    "    out = torch.log_softmax(dnn(X_t), dim=1)\n",
    "    loss = nn.functional.nll_loss(out, y_t)\n",
    "    optim.zero_grad()\n",
    "    loss.backward()\n",
    "    optim.step()\n",
    "    print(i, loss)"
   ]
  },
  {
   "cell_type": "code",
   "execution_count": null,
   "metadata": {},
   "outputs": [],
   "source": [
    "plt.figure(figsize=(60, 8))\n",
    "plt.imshow(out.data.numpy())\n",
    "plt.show()"
   ]
  },
  {
   "cell_type": "code",
   "execution_count": null,
   "metadata": {},
   "outputs": [],
   "source": [
    "plt.plot(x, np.sin(x)) # Add x-y labels.\n",
    "plt.show()"
   ]
  },
  {
   "cell_type": "markdown",
   "metadata": {},
   "source": [
    "# Consider back-propagation"
   ]
  },
  {
   "cell_type": "markdown",
   "metadata": {},
   "source": [
    "Let us compute the derivation w.r.t. $a$\n",
    "$\n",
    "\\frac{d}{da} \\frac{1}{1+e^{-a}} = y \\\\\n",
    "=  - \\frac{1}{1+e^{-a}} \\frac{1}{1+e^{-a}} \\cdot \\frac{d}{da} ({1+e^{-a}}) \\\\\n",
    "= - y^2 \\cdot e^{-a} \\cdot \\frac{d}{da} (-a) \\\\\n",
    "= y \\cdot \\frac{e^{-a}}{1+e^{-a}} \\\\\n",
    "= y (1-y)\n",
    "$"
   ]
  },
  {
   "cell_type": "code",
   "execution_count": null,
   "metadata": {},
   "outputs": [],
   "source": [
    "\n",
    "s = - 0.28\n",
    "w1 = - 0.4\n",
    "w2 = 0.3\n",
    "w3 = 0.5\n",
    "w4 = -0.7\n",
    "x1, x2, x3, x4 = 6.3, 3.3, 6., 2.5\n",
    "\n",
    "s = w1 * x1 + w2 * x2 + w3 * x3 + w4 * x4\n",
    "\n",
    "# delta_w1 = 0.001\n",
    "# w1_new = w1 + delta_w1\n",
    "# s_new = w1_new * x1 + w2 * x2 + w3 * x3 + w4 * x4\n",
    "\n",
    "delta_x1 = 0.001\n",
    "x1_new = x1 + delta_x1\n",
    "s_new = w1 * x1_new + w2 * x2 + w3 * x3 + w4 * x4\n",
    "\n",
    "\n",
    "a = 1 / (1 + np.exp(-s))\n",
    "delta_s = 0.0005\n",
    "#s_new = s + delta_s\n",
    "a_new = 1 / (1 + np.exp(-s_new))\n",
    "print(\"a \", a, \"changed to\", a_new)\n",
    "print(\"by\", (a_new-a))\n",
    "#print(\"deriv to s\", (a_new-a)/delta_s)\n",
    "print(\"deriv = a * (1-a)\", (a*(1-a)))\n",
    "\n",
    "# print(\"deriv to w1\", (a_new-a)/delta_w1)\n",
    "# print(\"deriv to w1 = a * (1-a) * x1\", (a*(1-a))*x1)\n",
    "\n",
    "print(\"deriv to x1\", (a_new-a)/delta_w1)\n",
    "print(\"deriv to x1 = a * (1-a) * w1\", (a*(1-a))*w1)"
   ]
  },
  {
   "cell_type": "code",
   "execution_count": 15,
   "metadata": {},
   "outputs": [
    {
     "ename": "NameError",
     "evalue": "name 'x' is not defined",
     "output_type": "error",
     "traceback": [
      "\u001b[0;31m--------------------------------------------------------------\u001b[0m",
      "\u001b[0;31mNameError\u001b[0m                    Traceback (most recent call last)",
      "\u001b[0;32m<ipython-input-15-fb64b914faed>\u001b[0m in \u001b[0;36m<module>\u001b[0;34m()\u001b[0m\n\u001b[1;32m      1\u001b[0m \u001b[0;31m# list\u001b[0m\u001b[0;34m\u001b[0m\u001b[0;34m\u001b[0m\u001b[0m\n\u001b[0;32m----> 2\u001b[0;31m \u001b[0mplt\u001b[0m\u001b[0;34m.\u001b[0m\u001b[0mplot\u001b[0m\u001b[0;34m(\u001b[0m\u001b[0mx\u001b[0m\u001b[0;34m,\u001b[0m \u001b[0my\u001b[0m\u001b[0;34m*\u001b[0m\u001b[0;34m(\u001b[0m\u001b[0;36m1\u001b[0m\u001b[0;34m-\u001b[0m\u001b[0my\u001b[0m\u001b[0;34m)\u001b[0m\u001b[0;34m)\u001b[0m\u001b[0;34m\u001b[0m\u001b[0m\n\u001b[0m\u001b[1;32m      3\u001b[0m \u001b[0mplt\u001b[0m\u001b[0;34m.\u001b[0m\u001b[0mshow\u001b[0m\u001b[0;34m(\u001b[0m\u001b[0;34m)\u001b[0m\u001b[0;34m\u001b[0m\u001b[0m\n",
      "\u001b[0;31mNameError\u001b[0m: name 'x' is not defined"
     ]
    }
   ],
   "source": [
    "# draw d/dx sigmoid(x) w.r.t. x\n",
    "plt.plot(x, y*(1-y))\n",
    "plt.show()"
   ]
  }
 ],
 "metadata": {
  "kernelspec": {
   "display_name": "Python 3",
   "language": "python",
   "name": "python3"
  },
  "language_info": {
   "codemirror_mode": {
    "name": "ipython",
    "version": 3
   },
   "file_extension": ".py",
   "mimetype": "text/x-python",
   "name": "python",
   "nbconvert_exporter": "python",
   "pygments_lexer": "ipython3",
   "version": "3.5.4"
  },
  "toc": {
   "base_numbering": 1,
   "nav_menu": {},
   "number_sections": true,
   "sideBar": true,
   "skip_h1_title": false,
   "title_cell": "Table of Contents",
   "title_sidebar": "Contents",
   "toc_cell": false,
   "toc_position": {},
   "toc_section_display": true,
   "toc_window_display": false
  }
 },
 "nbformat": 4,
 "nbformat_minor": 2
}
