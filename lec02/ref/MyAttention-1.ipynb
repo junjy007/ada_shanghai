{
 "cells": [
  {
   "cell_type": "markdown",
   "metadata": {},
   "source": [
    "Let us try declarative programming.\n",
    "\n",
    "## Sec. 3.1 Encoder and Decoder Stacks"
   ]
  },
  {
   "cell_type": "markdown",
   "metadata": {},
   "source": [
    "I believe `class MultiHeadedAttention(nn.Module)` in [here][1] is not correct. There are 3 * 8 = 24 linear maps. \n",
    "\n",
    "__NO__, I was wrong, the implementation there is efficient: the pre-attention mapping of all heads are computed together. \n",
    "Instead performing\n",
    "$$\n",
    "[bs \\times n \\times 512] \\cdot [512 \\times 64]\n",
    "$$\n",
    "8 times, the computation is done via an operation\n",
    "$$\n",
    "[bs \\times n \\times 512] \\cdot [512 \\times 512] \n",
    "$$ The result is arranged as\n",
    "$$\n",
    "[bs \\times n \\times (64, 64, ..., 64)]\n",
    "$$\n",
    "You can reshape it to\n",
    "$$\n",
    "[bs \\times n \\times 8 \\times 64]\n",
    "$$\n",
    "\n",
    "[1]:http://nlp.seas.harvard.edu/2018/04/03/attention.html#attention"
   ]
  },
  {
   "cell_type": "code",
   "execution_count": 97,
   "metadata": {},
   "outputs": [],
   "source": [
    "import torch\n",
    "import torch.nn as nn\n",
    "import math"
   ]
  },
  {
   "cell_type": "markdown",
   "metadata": {},
   "source": [
    "# Attention 机制\n",
    "\n",
    "先说本算法的重点 (如果你急于知道如何从最原始的文本数据到达算法的核心，可以参阅下文 “Data” 一节，该章节可与这里的介绍并行阅读)：\n",
    "\n",
    "在最核心的层面，处理的数据是 \n",
    "- n 个输入样本，每个样本为一个向量。我们认为此向量表达了每个输入样本的“特点”。\n",
    "- m 个参考样本，每个样本为两部分\n",
    "    - 一个特征向量。我们认为此向量表达了每个参考样本的跟输入相关方面“特点”。\n",
    "    - 一个输出向量。我们认为此向量表达了每个参考样本的我们感兴趣需要输出的“特点”。\n",
    "    \n",
    "具体比如说 $Q \\in \\mathbb{R}^{6 \\times 16}$, $K \\in \\mathbb{R}^{8 \\times 16}$， $V \\in \\mathbb{R}^{8 \\times 64}$： $Q$ 表示 有 6 个输入样本，每个被表示为一个 16 维的向量。还有 8 个参考样本，每个参考样本有一个 16 维的（与输入样本同维度）特征向量用于查询，类似于一个 `dict` 里面的“键”（key，为矩阵$K$的一行），还有一个 64 维的向量表示这个参考样本对算法最终输出的贡献，类似于一个 `dict` 当中的“值”（value，为矩阵$V$的一行）。"
   ]
  },
  {
   "cell_type": "markdown",
   "metadata": {},
   "source": [
    "Attention 这一步操作为每个输入样本计算得到一个输出的特征向量。下面考虑某个特定的输入样本，比方说在我们的例子里面一个 6 个样本的 mini-batch 中的第 3 个样本。这个输入的特征向量就是 $Q$ 矩阵中的第三行，一个 16 维向量 $q_3 \\in \\mathbb{R}^16$。（以下我们省略样本编号 3 这个下标，因为这个编号不影响我们讨论的操作，这些操作适用于所有的输入样本）\n",
    "\n",
    "下面一步是做“查询”。引入这步运算的动机是比较清晰的：$q$ 与 每个参考样本的 $K$-特征向量做内积，用于衡量这个输入样本与各参考样本的相似程度。相似度更高的参考样本将贡献更多到最终的输出中（见下面的运算）。\n",
    "\n",
    "下面我们看这步运算具体的例子："
   ]
  },
  {
   "cell_type": "code",
   "execution_count": 90,
   "metadata": {},
   "outputs": [
    {
     "name": "stdout",
     "output_type": "stream",
     "text": [
      "tensor([ 4.2618,  3.6949,  4.3126,  4.4321,  5.1312,  5.0123,  5.5642,\n",
      "         3.3436])\n"
     ]
    }
   ],
   "source": [
    "Q = torch.rand(6, 16)\n",
    "K = torch.rand(8, 16)\n",
    "V = torch.rand(8, 64)\n",
    "\n",
    "q = Q[3]\n",
    "query_ref_similarity = torch.zeros(8)\n",
    "for i in range(8):\n",
    "    query_ref_similarity[i] = (q * K[i]).sum()\n",
    "print(query_ref_similarity)"
   ]
  },
  {
   "cell_type": "markdown",
   "metadata": {},
   "source": [
    "为了让上面这些内积的值能够当作权重来使用，我们做一步 `softmax`。"
   ]
  },
  {
   "cell_type": "code",
   "execution_count": 93,
   "metadata": {},
   "outputs": [
    {
     "name": "stdout",
     "output_type": "stream",
     "text": [
      "tensor([ 0.0807,  0.0458,  0.0849,  0.0957,  0.1926,  0.1710,  0.2970,\n",
      "         0.0322]) tensor(1.)\n"
     ]
    }
   ],
   "source": [
    "weights = torch.nn.functional.softmax(query_ref_similarity, dim=0)\n",
    "print(weights, weights.sum())"
   ]
  },
  {
   "cell_type": "markdown",
   "metadata": {},
   "source": [
    "那么我们现在确认得到了用于构建针对于 q 的输出的权重，下面要把这些权重组合到各个参考样本的“值”，$V$-特征向量去:"
   ]
  },
  {
   "cell_type": "code",
   "execution_count": 96,
   "metadata": {},
   "outputs": [
    {
     "name": "stdout",
     "output_type": "stream",
     "text": [
      "torch.Size([64])\n"
     ]
    }
   ],
   "source": [
    "v = torch.zeros(64)\n",
    "for i in range(8):\n",
    "    v += weights[i] * V[i]\n",
    "print(v.shape)"
   ]
  },
  {
   "cell_type": "markdown",
   "metadata": {},
   "source": [
    "可以看出对于作为例子的这个特定的$q$，我们得到了一个64维的输出。把上面的算法总结一下，将其中的循环相加用简洁的矩阵相乘表示。\n",
    "\n",
    "- 对 $Q$ 的每行都计算它们与 $K$ 的行向量的内积：$S \\leftarrow Q\\cdot K^T, S \\in \\mathbb{R}$，则 $S$ 的每行代表 $Q$ 相应的行与每个 $K$-特征向量的内积，$S$ 的一行中含有的元素个数等于 $K$-特征向量的个数（$K$ 的行数）。\n",
    "\n",
    "- 使用上面求得的 $S$ 的每一行组合 $V$：$Y \\leftarrow \\hat{S} \\cdot V$. 其中 $\\hat{S}$ 是把 $S$ 的每一行元素都做 softmax 的结果。\n",
    "\n",
    "我们定义 attention 函数运算如下："
   ]
  },
  {
   "cell_type": "code",
   "execution_count": 98,
   "metadata": {},
   "outputs": [],
   "source": [
    "def attention(q, k, v, mask=None, dropout=None):\n",
    "    \"\"\"\n",
    "    Perform scaled dot-project attention as in Fig. 1\n",
    "    :param q:query keys, [... x #.query-keys x features]\n",
    "    :param k:referece keys, [... x #.reference-keys x features]\n",
    "    :param v:\n",
    "    :param mask: #.query-keys x #.reference-keys\n",
    "    :param dropout: functional x -> dropout(x)\n",
    "    \"\"\"\n",
    "    key_feats = q.shape[-1]\n",
    "    \n",
    "    qm = torch.matmul(q, k.transpose(-2, -1)) \\\n",
    "        / math.sqrt(key_feats)\n",
    "    if mask is not None:\n",
    "        qm = qm.masked_fill(mask==0, 1e-9)\n",
    "    qm = nn.functional.softmax(qm, dim=-1)\n",
    "    if dropout is not None:\n",
    "        qm = dropout(qm)\n",
    "    out = torch.matmul(qm, v)\n",
    "    return out, qm"
   ]
  },
  {
   "cell_type": "markdown",
   "metadata": {},
   "source": [
    "需注意三点：\n",
    "- 运算可以针对整个 mini-batch 即若干个输入文档和若干个输出文档一起操作\n",
    "- 我们使用了一个常数乘子来抵消 query-key 的维数的影响，比如 $q$-向量如果是16维，则它与每个$K$-向量的内积就会被除以 $\\sqrt(16)=4$.\n",
    "- 可以用 mask 把某些特定的参考样本给去除，方法是 `qm.masked_fill(mask==0, 1e-9)` -- 而这个操作是可以 “broadcast” 的，即可以为每一个文档都指定某种忽略参考向量的模式（broadcast in dim-0），也可以为每一个输出向量指定某种忽略参考向量的模式broadcast in dim-1）（参见下面的例子）"
   ]
  },
  {
   "cell_type": "code",
   "execution_count": 102,
   "metadata": {},
   "outputs": [
    {
     "data": {
      "text/plain": [
       "tensor([[[ 0.6000,  0.6000,  0.4853,  0.6000,  0.1479],\n",
       "         [ 0.6000,  0.6000,  0.6270,  0.6000,  0.3562],\n",
       "         [ 0.6000,  0.6000,  0.9705,  0.6000,  0.4837],\n",
       "         [ 0.6000,  0.6000,  0.9913,  0.6000,  0.6537]],\n",
       "\n",
       "        [[ 0.6000,  0.6000,  0.6504,  0.6000,  0.6455],\n",
       "         [ 0.6000,  0.6000,  0.9872,  0.6000,  0.1887],\n",
       "         [ 0.6000,  0.6000,  0.6267,  0.6000,  0.2098],\n",
       "         [ 0.6000,  0.6000,  0.1678,  0.6000,  0.6016]],\n",
       "\n",
       "        [[ 0.6000,  0.6000,  0.7557,  0.6000,  0.4532],\n",
       "         [ 0.6000,  0.6000,  0.9578,  0.6000,  0.2066],\n",
       "         [ 0.6000,  0.6000,  0.7310,  0.6000,  0.6122],\n",
       "         [ 0.6000,  0.6000,  0.0100,  0.6000,  0.4547]]])"
      ]
     },
     "execution_count": 102,
     "metadata": {},
     "output_type": "execute_result"
    }
   ],
   "source": [
    "tmp = torch.rand(3, 4, 5)\n",
    "tmp.masked_fill(torch.ByteTensor([True, True, False, True, False]), 0.6)"
   ]
  },
  {
   "cell_type": "code",
   "execution_count": 14,
   "metadata": {},
   "outputs": [],
   "source": [
    "class AttentionLayer(nn.Module):\n",
    "    def __init__(self, in_features, attention_heads,\n",
    "                 dropout=0.1):\n",
    "        \"\"\"\n",
    "        :param in_features: the dim of word representation, e.g. 512\n",
    "        :param attention_heads: attention \"heads\", e.g. 8\n",
    "        :param dropout:\n",
    "        \"\"\"\n",
    "        super(AttentionLayer, self).__init__()\n",
    "        assert in_features % attention_heads == 0\n",
    "        \n",
    "        self.in_features = in_features\n",
    "        self.proj_features = in_features // attention_heads  # the dim of projected \n",
    "            # keys and values in multi-head attention e.g. 64\n",
    "        self.attention_heads = attention_heads\n",
    "        if dropout is not None:\n",
    "            self.dropout = nn.Dropout(p=dropout)\n",
    "        # in_features = #.heads * proj_features_per_head\n",
    "        # = out_features\n",
    "        self.q_projs = nn.Linear(in_features, in_features)     \n",
    "        self.k_projs = nn.Linear(in_features, in_features)\n",
    "        self.v_projs = nn.Linear(in_features, in_features)\n",
    "        self.final_proj = nn.Linear(in_feature, in_features)\n",
    "        self.attn = None\n",
    "    \n",
    "    def forward(self, query_keys, ref_keys, ref_values, mask=None):\n",
    "        \"\"\"\n",
    "        :param query_keys: [batch_size, n, feat_dim]\n",
    "          batch_size: number of documents\n",
    "          n: number of words in each document\n",
    "          feat_dim: number of features of embedded word\n",
    "        :param ref_keys:\n",
    "        :param ref_values:\n",
    "        :param mask: if attention layer is auto-regressive -- position i, can only\n",
    "          refer to positions 0..i-1\n",
    "        \"\"\"\n",
    "        batch_size = query_keys.shape[0]\n",
    "        \n",
    "        if mask is not None:\n",
    "            # mask is of [batch-size, n, n] it is different for each document\n",
    "            # because paddings for non-valid words\n",
    "            # so you cannot simply \"broadcasting\" is using the last [n, n] slice\n",
    "            mask = mask.unsqueeze(1)\n",
    "        \n",
    "        q, r, v = [f(x)\n",
    "                   .reshape(batch_size, -1, \n",
    "                            self.attention_heads, \n",
    "                            self.proj_features)\n",
    "                   .transpose(1, 2) \n",
    "                   for f, x in zip([self.q_projs, self.k_projs, self.v_projs],\n",
    "                                   [query_keys, ref_keys, ref_values])]\n",
    "                   \n",
    "            \n",
    "\n",
    "        a, self.attn = attention(q, r, v, mask, self.dropout)\n",
    "        a = a.transpose(1, 2)\\\n",
    "             .reshape(batch_size, -1, self.in_features)\n",
    "        y = self.final_proj(a)\n",
    "\n",
    "        return y\n",
    "        "
   ]
  },
  {
   "cell_type": "code",
   "execution_count": null,
   "metadata": {},
   "outputs": [],
   "source": [
    "batch_size = 32\n",
    "n = 20\n",
    "m = 25\n",
    "feat_num = 512\n",
    "multi_attention_feat_dim = 64\n",
    "x = torch.rand(batch_size, n, feat_num) # encoder\n",
    "y = torch.rand(batch_size, m, feat_num)\n",
    "query_keys = y\n",
    "ref_keys = ref_values = x\n",
    "# making mask\n",
    "# -inf doesn't work for position 1, which has no previous position to attend\n",
    "mask = (torch.zeros(n, n)).triu()\n",
    "anet = AttentionLayer(512, 8)"
   ]
  },
  {
   "cell_type": "code",
   "execution_count": null,
   "metadata": {},
   "outputs": [],
   "source": [
    "codec = anet(query_keys, ref_keys, ref_values)\n",
    "print(codec.shape)"
   ]
  },
  {
   "cell_type": "code",
   "execution_count": null,
   "metadata": {},
   "outputs": [],
   "source": [
    "enc = anet(x, x, x, mask)\n",
    "print(codec.shape)"
   ]
  },
  {
   "cell_type": "code",
   "execution_count": null,
   "metadata": {},
   "outputs": [],
   "source": [
    "%debug"
   ]
  },
  {
   "cell_type": "code",
   "execution_count": null,
   "metadata": {},
   "outputs": [],
   "source": []
  },
  {
   "cell_type": "code",
   "execution_count": null,
   "metadata": {},
   "outputs": [],
   "source": []
  },
  {
   "cell_type": "markdown",
   "metadata": {},
   "source": [
    "I use the new feature of reshaping but the old implementation use view on contiguous memory."
   ]
  },
  {
   "cell_type": "code",
   "execution_count": null,
   "metadata": {},
   "outputs": [],
   "source": [
    "# b1 = codec.transpose(1, 2).view(32, 25, 512) -- cause error\n",
    "b1a = codec.transpose(1, 2).contiguous().view(32, 25, 512)\n",
    "b2 = codec.transpose(1, 2).reshape(32, 25, 512)\n",
    "(b2 - b1a).abs().max()"
   ]
  },
  {
   "cell_type": "code",
   "execution_count": null,
   "metadata": {},
   "outputs": [],
   "source": [
    "feat_num=512\n",
    "feat_num_a=64\n",
    "num_attn=8\n",
    "qproj = nn.Linear(in_features=feat_num,\n",
    "                  out_features=feat_num_a*num_attn)"
   ]
  },
  {
   "cell_type": "code",
   "execution_count": null,
   "metadata": {},
   "outputs": [],
   "source": [
    "q = qproj(query_keys)\\\n",
    "    .reshape(batch_size, -1, num_attn, feat_num_a)\\\n",
    "    .transpose(1, 2)\n",
    "print(q.shape)\n",
    "q.masked_fill()"
   ]
  },
  {
   "cell_type": "code",
   "execution_count": null,
   "metadata": {},
   "outputs": [],
   "source": [
    "q = torch.rand(3, 2, 4, 5)\n",
    "mask = torch.rand(4, 5)>0.5"
   ]
  },
  {
   "cell_type": "code",
   "execution_count": null,
   "metadata": {},
   "outputs": [],
   "source": [
    "q.masked_fill(mask, 999)"
   ]
  },
  {
   "cell_type": "code",
   "execution_count": null,
   "metadata": {},
   "outputs": [],
   "source": [
    "def EncoderDecoder(nn.Module):\n",
    "    def __init__(self, encoder, decoder):\n",
    "        super(EncoderDecoder, self).__init__()\n",
    "        self.encoder = encoder\n",
    "        self.decoder = decoder\n",
    "        \n",
    "    def forward(self, x):\n",
    "        z = self.encoder(x)\n",
    "        y = self.decoder(z)\n",
    "        return y\n",
    "    \n",
    "def Encoder(nn.Module):\n",
    "    def __init__(self, encoder_layer_factory, n_layers):\n",
    "        super(Encoder, self).__init__()\n",
    "        self.layers = nn.ModuleList([_ for _ in encoder_layer_factory])\n",
    "        \n",
    "    def forward(self, x):\n",
    "        for ly in self.layers:\n",
    "            x = ly(x)\n",
    "        return x\n",
    "    \n",
    "def EncoderLayer(nn.Module):\n",
    "    def __init__(self, n_feat, attention_layer_factory):\n",
    "        \"\"\"\n",
    "        :param attention_layer_factory: \n",
    "        \"\"\"\n",
    "        super(EncoderLayer, self).__init__()\n",
    "        self.layernorm = nn.LayerNorm([512,])\n",
    "        self.sublayer  = attention_layer_factory(n_feat)\n",
    "        \n",
    "    def forward(self, x):\n",
    "        return self.layernorm( x + self.sublayer(x) )"
   ]
  },
  {
   "cell_type": "markdown",
   "metadata": {},
   "source": [
    "# Data\n",
    "\n",
    "数据来源是 IWSLT 英德翻译任务，该项任务是自然语言处理的常用测试，其数据集是 torchtext 工具包自带的。需要的工具 `torchtext`, `spacy`\n",
    "\n",
    "- `pip install torchtext spacy`\n",
    "\n",
    "## 预处理\n",
    "spacy 是做预处理工作的，我们需要下载它针对英语和德语的语法数据库来帮助处理数据（tokenize，把原始文本处理成如解释缩写，处理单词的不同形式）"
   ]
  },
  {
   "cell_type": "code",
   "execution_count": 28,
   "metadata": {},
   "outputs": [],
   "source": [
    "import spacy\n",
    "spacy_de = spacy.load('de')\n",
    "spacy_en = spacy.load('en')"
   ]
  },
  {
   "cell_type": "markdown",
   "metadata": {},
   "source": [
    "这样我们就有了两个语言处理器，分别对付英语和德语。让我们试一下将要用到的功能。"
   ]
  },
  {
   "cell_type": "code",
   "execution_count": 29,
   "metadata": {},
   "outputs": [
    {
     "name": "stdout",
     "output_type": "stream",
     "text": [
      "A fox is jumping over 12 boxes.\n",
      "A\n",
      "fox\n",
      "is\n",
      "jumping\n",
      "over\n",
      "12\n",
      "boxes\n",
      ".\n"
     ]
    }
   ],
   "source": [
    "raw_text = \"A fox is jumping over 12 boxes.\"\n",
    "tk = spacy_en(raw_text)\n",
    "print(tk)\n",
    "for t in tk:\n",
    "    print(t)"
   ]
  },
  {
   "cell_type": "markdown",
   "metadata": {},
   "source": [
    "这里看上去就是把一个句子的每个单词都分开来了，“似乎没有什么特别的嘛”——我们应该这样感觉吧。比如把空格符当作分割的标记，不是可以轻易完成这项工作吗？但是请注意这里一个细节，它把句点`.`成功滴分割成了一个 token，这不是可以简单用空格来分割而做到的。也许你还会想，这样也还好，我们把数字字母构成的字符串分开来就可以了。但是这项工作比你想象的要难得多。从广泛意义上，这里需要规定怎样的一个语言单元可以算作一个token。比如上面那句话如果这样写："
   ]
  },
  {
   "cell_type": "code",
   "execution_count": 30,
   "metadata": {},
   "outputs": [
    {
     "name": "stdout",
     "output_type": "stream",
     "text": [
      "A fox's jumping over 12 boxes.\n",
      "A : DET 89 a\n",
      "fox : NOUN 91 fox\n",
      "'s : VERB 99 be\n",
      "jumping : VERB 99 jump\n",
      "over : ADP 84 over\n",
      "12 : NUM 92 12\n",
      "boxes : NOUN 91 box\n",
      ". : PUNCT 96 .\n"
     ]
    }
   ],
   "source": [
    "raw_text = \"A fox's jumping over 12 boxes.\"\n",
    "tk = spacy_en(raw_text)\n",
    "print(tk)\n",
    "for t in tk:\n",
    "    print(t, ':', t.pos_, t.pos, t.lemma_)"
   ]
  },
  {
   "cell_type": "code",
   "execution_count": 31,
   "metadata": {},
   "outputs": [
    {
     "name": "stdout",
     "output_type": "stream",
     "text": [
      "A :  0 A\n",
      "fox :  0 fox\n",
      "'s :  0 have\n",
      "jumping :  0 jump\n",
      "over :  0 over\n",
      "12 :  0 12\n",
      "boxes :  0 box\n",
      ". :  0 .\n"
     ]
    }
   ],
   "source": [
    "tk = spacy_en.tokenizer(\"A fox's jumping over 12 boxes.\")\n",
    "for t in tk:\n",
    "    print(t, ':', t.pos_, t.pos, t.lemma_)"
   ]
  },
  {
   "cell_type": "markdown",
   "metadata": {},
   "source": [
    "注意它把`'s`识别成它的原型`be`。而且每个处理过的单词——现在是一个Token对象——。以这些更加规整的元素为基础，我们就可以进行自然语言处理了。注意在下面的例子中，为了速度起见，我们使用底层的第一级处理 tokenizer，而不做nlp的分析（本来我们就要进行这部分工作）。"
   ]
  },
  {
   "cell_type": "code",
   "execution_count": null,
   "metadata": {},
   "outputs": [],
   "source": [
    "def tokenizer_de(text):\n",
    "    return [tok.text for tok in spacy_de.tokenizer(text)]\n",
    "\n",
    "def tokenizer_en(text):\n",
    "    return [tok.text for tok in spacy_en.tokenizer(text)]"
   ]
  },
  {
   "cell_type": "markdown",
   "metadata": {},
   "source": [
    "## 构造训练数据流\n",
    "\n",
    "我们当然可以把训练数据中的每一对英德文档都用上面的tokenizer预处理一遍，然后把所得的tokens重新保存成两堆互相一一对应的英德token集合。但是这样非但浪费空间，而且牺牲了灵活性，使得将来做试验时更换其它预处理的方法和参数的操作非常笨拙不便。torchtext 提供一个方便的框架，使得我们在真正的训练步骤开始之前（就数据而言，即为它被真正被读入内存）只需要描述当文档数据到来时，我们“打算”如何处理。"
   ]
  },
  {
   "cell_type": "code",
   "execution_count": null,
   "metadata": {},
   "outputs": [],
   "source": [
    "from torchtext import data, datasets\n",
    "BLANK_WORD = \"<blank>\"\n",
    "BOS_WORD = \"<s>\"\n",
    "EOS_WORD = \"</s>\"\n",
    "SRC = data.Field(tokenize=tokenizer_de, pad_token=BLANK_WORD)\n",
    "TGT = data.Field(tokenize=tokenizer_en, init_token=BOS_WORD,\n",
    "                 eos_token=EOS_WORD, pad_token=BLANK_WORD)"
   ]
  },
  {
   "cell_type": "markdown",
   "metadata": {},
   "source": [
    "`data.Field` 是专门用于某一类数据的处理器件，对应于数据集中的一个变量。如果我们把数据想象成一个大表格，每个数据样本是一行，每种属性是一列。对于双语翻译的数据集来说，每个样本（行）就是源语言和目标语言的两篇文档。 分别占据两列，表格的一列就是一种语言。那么一个Field对象也就描述了针对一种语言的文档的处理方式。\n",
    "\n",
    "```\n",
    "Field class models common text processing datatypes that can be represented by tensors. It holds a Vocab object that defines the set of possible values for elements of the field and their corresponding numerical representations. The Field object also holds other parameters relating to how a datatype should be numericalized, such as a tokenization method and the kind of Tensor that should be produced.\n",
    "\n",
    "If a Field is shared between two columns in a dataset (e.g., question and answer in a QA dataset), then they will have a shared vocabulary.\n",
    "```\n",
    "\n",
    "在上面的例子里面……"
   ]
  },
  {
   "cell_type": "code",
   "execution_count": 5,
   "metadata": {},
   "outputs": [],
   "source": [
    "import os\n",
    "DATA_PATH_ROOT = os.path.expanduser(\"~/data/common/nlp\")\n",
    "MAX_LEN = 100\n",
    "def doc_length_filter(data_item):\n",
    "    good = len(vars(data_item)['src']) <= MAX_LEN \\\n",
    "        and len(vars(data_item)['trg']) <= MAX_LEN\n",
    "    return good\n",
    "\n",
    "train, val, test = datasets.IWSLT.splits(\n",
    "    root=DATA_PATH_ROOT,\n",
    "    exts=('.de', '.en'),\n",
    "    fields=(SRC, TGT),\n",
    "    filter_pred=doc_length_filter)"
   ]
  },
  {
   "cell_type": "code",
   "execution_count": null,
   "metadata": {},
   "outputs": [],
   "source": [
    "for doc_pair in train:\n",
    "    break\n",
    "print(\"Type of a data sample\", type(doc_pair))\n",
    "print(\"docs.src\", doc_pair.src)\n",
    "print(\"docs.trg\", doc_pair.trg)"
   ]
  },
  {
   "cell_type": "markdown",
   "metadata": {},
   "source": [
    "splits 返回三个子集对应于train validatiaon和test。注意这里的划分是从上述的“数据表格”的行的角度来看的，每个子集都是若干行，每行都包含了两类不同的文本（注意有的情况下test集合里面没有目标文本）。\n",
    "- root：数据下载和保存的文件夹如果是第一次使用，下载之\n",
    "- exts=('.de', '.en')：指明每个样本当中的文档对里面的两种语言的文档的扩展名（这样的设置是针对本数据集的，其它数据集可能有不同的存储方式，比如不用扩展名而是以JSON文件中的域来存储不同类型的文档）。\n",
    "- fields=(SRC, TGT)：用上面定义的两个预处理器来处理两类文档\n",
    "- filter_pred=doc_length_filter：为了效率起见，我们只返回不超过一定长度的文本。"
   ]
  },
  {
   "cell_type": "markdown",
   "metadata": {},
   "source": [
    "下面把这样的文本转换成一系列整数。分别对应于每个 token 在英语/德语 token 集合中的唯一索引。你可以想象一下，比方说我们想处理英文文档，比方说使用用英语通讯，但是每次发送一个单词非常浪费和不安全。于是我们把英语中常用的单词和其它的有用的语言符号，比如据点，逗号都编纂成一部字典。然后我们就可以用一串整数来表示一个文档了。在双语分析这个特定的问题上，这步处理可以分别对源和目标语言来做，也可以合并编纂一整个双语字典（比方说这样就可以共享句点这类token）。无论如何，我们首先把英语和德语中用到的tokens收集起来。这可以分别交给两个 Field 对象方便的实现。"
   ]
  },
  {
   "cell_type": "code",
   "execution_count": 33,
   "metadata": {},
   "outputs": [],
   "source": [
    "MIN_FREQ = 2\n",
    "SRC.build_vocab(train.src, min_freq=MIN_FREQ)\n",
    "TGT.build_vocab(train.trg, min_freq=MIN_FREQ)"
   ]
  },
  {
   "cell_type": "markdown",
   "metadata": {},
   "source": [
    "文档数据有个特点，每个数据样本的长度都是变化的。我们的模型里面，数据的长度是三维 tensor 的第二个维度（分别是：1 mini-batch 中数据样本，即成对的源/目标文档的数量；2 每个数据中的源文档的长度（token数）；3 每个token 被 embed 的子空间维度）。其中1 是灵活的，我们可以随便根据硬件和其它情况设置每一步训练使用多少个样本。3是全局统一的一个变量。问题出在2，同一个mini-batch中的每个源文档的token数必须一致。这显然不符合现实。但是如果不能把每个源文档组织成一致的长度，我们就只能一步训练使用一个数据样本，效率太低。所以我们折衷：我们把一个mini-batch里面所有的文档都填充成为一样大小。显然对于这个操作而言，如果我们能把本来长度就相似的文档组织到一起，需要填充的无效token就越少，运算效率也高。\n",
    "\n",
    "torchtext.data 提供了 batch 组织的方式。下面的方法是一次读入更多的data（100倍batch大小）然后让data的排序等操作在这个大缓冲区当中进行，可以让读到的文本集更加规整。近一步减少填充。"
   ]
  },
  {
   "cell_type": "code",
   "execution_count": 10,
   "metadata": {},
   "outputs": [],
   "source": [
    "class MyIterator(data.Iterator):\n",
    "    def __init__(self, database, batch_size, **kwargs):\n",
    "        super(MyIterator, self).__init__(database, batch_size, **kwargs)\n",
    "        # will call my create_batches\n",
    "    \n",
    "    def create_batches(self):\n",
    "        \"\"\"\n",
    "        \"Pre-fetch\" 100x batch-size samples, to cluster the similarly sized.\n",
    "        ones together.\n",
    "        \n",
    "        This is an overload function. It will be called when we \"connect\" to data.\n",
    "        \"\"\"\n",
    "        # print(\"My iterator connected to data ...\")\n",
    "        if self.train:\n",
    "            def pool(d, random_shuffler):\n",
    "                for p in data.batch(d, self.batch_size*100):\n",
    "                    p_batch = data.batch(\n",
    "                        sorted(p, key=self.sort_key),\n",
    "                        self.batch_size, \n",
    "                        self.batch_size_fn)\n",
    "                    for b in random_shuffler(list(p_batch)):\n",
    "                        yield b\n",
    "            self.batches = pool(self.data(), self.random_shuffler)\n",
    "        else:\n",
    "            print(\"test\")\n",
    "            self.batches = []\n",
    "            for b in data.batch(self.data(), \n",
    "                                self.batch_size, \n",
    "                                self.batch_size_fn):\n",
    "                self.batches.append(sorted(b, key=self.sort_key))"
   ]
  },
  {
   "cell_type": "markdown",
   "metadata": {},
   "source": [
    "把我们的 MyIterator 跟 train data 连起来试试。注意 MyIterator 里面的 `batch` 在任何情况下都是个generator。注意可以在上面代码的打印“Connected to data”那里输出更多的信息。\n",
    "\n",
    "[一张图说明 Iterator -> Dataset -> Field]的功能性依存关系。"
   ]
  },
  {
   "cell_type": "code",
   "execution_count": 49,
   "metadata": {},
   "outputs": [
    {
     "name": "stdout",
     "output_type": "stream",
     "text": [
      "\n",
      "[torchtext.data.batch.Batch of size 20 from IWSLT]\n",
      "\t[.src]:[torch.LongTensor of size 7x20]\n",
      "\t[.trg]:[torch.LongTensor of size 12x20]\n",
      "Doc [ 0]\n",
      "\tsrc: [16186, 475, 3947, 15, 22, 39, 681, 2861, 25, 37, 348, 105, 44, 22, 14, 10815, 15008, 8502, 61, 140]\n",
      "\ttrg: [2, 2, 2, 2, 2, 2, 2, 2, 2, 2, 2, 2, 2, 2, 2, 2, 2, 2, 2, 2]\n",
      "Doc [ 1]\n",
      "\tsrc: [2449, 111, 851, 18, 73, 7, 7, 572, 154, 7, 2, 92, 50, 11, 3347, 7, 1715, 30, 8, 335]\n",
      "\ttrg: [16850, 599, 7418, 12105, 19, 51, 850, 1142, 12, 92, 699, 1142, 58, 19, 45, 105, 4079, 58, 59, 247]\n"
     ]
    }
   ],
   "source": [
    "myiter = MyIterator(train, batch_size=20, \n",
    "                    sort_key=lambda x: (len(x.src), len(x.trg)))\n",
    "batch = next(iter(myiter))\n",
    "print(batch)\n",
    "for i in range(2):\n",
    "    src_doc = [ti_.item() for ti_ in batch.src[i]]\n",
    "    trg_doc = [ti_.item() for ti_ in batch.trg[i]]\n",
    "    print(\"Doc [{:2d}]\".format(i))\n",
    "    print(\"\\tsrc:\", src_doc)\n",
    "    print(\"\\ttrg:\", trg_doc)"
   ]
  },
  {
   "cell_type": "markdown",
   "metadata": {},
   "source": [
    "数据的样子大致如此，上面的例子里面src是 $16\\times 20$ 的 tensor。也就是20个文档，每个包含 16个 tokens。注意我们需要的是 mini-batch $\\times$ #.tokens 这样的形式。更重要的是，我们要把这批（mini-batch）文档哪里是被填充的地方标记出来。后面的 attention 运算中要略过。所以要再处理一次。 注意我们首先要得到用于填充的那个token的编号。另外我们给出一个构造 `subsequent_mask`的方法，该 mask 使得 attention 运算时某个位置的 token 只与其之前的 tokens （以及自身） 关联。本质上是一个 $n \\times n$ 的下三角矩阵。$n$ 是这个batch里面每个文档包含的token的数量。\n",
    "\n",
    "mask 的形式应该是 mini-batches $ \\times n \\times n $。"
   ]
  },
  {
   "cell_type": "code",
   "execution_count": 35,
   "metadata": {},
   "outputs": [
    {
     "name": "stdout",
     "output_type": "stream",
     "text": [
      "1\n"
     ]
    }
   ],
   "source": [
    "pad_idx = TGT.vocab.stoi[BLANK_WORD]\n",
    "assert pad_idx == SRC.vocab.stoi[BLANK_WORD]\n",
    "print(pad_idx)"
   ]
  },
  {
   "cell_type": "code",
   "execution_count": null,
   "metadata": {},
   "outputs": [],
   "source": [
    "def subsequent_mask(s):\n",
    "    \"\"\"\n",
    "    Mask out subsequent positions\n",
    "    \"\"\"\n",
    "    return (torch.ones(s, s).triu(1)<0.5).unsqueeze(0)\n",
    "\n",
    "# Batch and masking        \n",
    "class Batch:\n",
    "    \"Object for holding a batch of data with mask during training.\"\n",
    "    def __init__(self, src, trg=None, pad=0):\n",
    "        self.src = src\n",
    "        # mask used by decoder, it needs to heed everywhere\n",
    "        # which is not padded in the source document.\n",
    "        self.src_mask = (src != pad).unsqueeze(-2)\n",
    "        if trg is not None:\n",
    "            self.trg = trg[:, :-1]\n",
    "            self.trg_y = trg[:, 1:]\n",
    "            self.trg_mask = \\\n",
    "                self.make_std_mask(self.trg, pad)\n",
    "            self.ntokens = (self.trg_y != pad).data.sum()\n",
    "    \n",
    "    @staticmethod\n",
    "    def make_std_mask(tgt, pad):\n",
    "        \"Create a mask to hide padding and future words.\"\n",
    "        tgt_mask = (tgt != pad).unsqueeze(-2)\n",
    "        tgt_mask = tgt_mask \\\n",
    "            & subsequent_mask(tgt.size(-1)).type_as(tgt_mask.data)\n",
    "        return tgt_mask\n",
    "    \n",
    "def rebatch(pad_idx, batch):\n",
    "    \"\"\"\n",
    "    adjust the \n",
    "    \"\"\"\n",
    "    src, trg = batch.src.transpose(0, 1), batch.trg.transpose(0,1)\n",
    "    return Batch(src, trg, pad_idx)"
   ]
  },
  {
   "cell_type": "code",
   "execution_count": 54,
   "metadata": {},
   "outputs": [
    {
     "name": "stdout",
     "output_type": "stream",
     "text": [
      "src-mask is of  torch.Size([20, 1, 7])\n",
      "trg-mask is of  torch.Size([20, 11, 11])\n",
      "Doc [ 0]\n",
      "\tsrc: [16186, 2449, 8, 615, 1061, 59, 3]\n",
      "\ttrg: [2, 16850, 4, 3257, 750, 1390, 40, 6, 91, 5, 3]\n",
      "\tsrc_mask: tensor([ 1,  1,  1,  1,  1,  1,  1], dtype=torch.uint8)\n",
      "\ttrg_mask\n",
      ": tensor([[ 1,  0,  0,  0,  0,  0,  0,  0,  0,  0,  0],\n",
      "        [ 1,  1,  0,  0,  0,  0,  0,  0,  0,  0,  0],\n",
      "        [ 1,  1,  1,  0,  0,  0,  0,  0,  0,  0,  0],\n",
      "        [ 1,  1,  1,  1,  0,  0,  0,  0,  0,  0,  0],\n",
      "        [ 1,  1,  1,  1,  1,  0,  0,  0,  0,  0,  0],\n",
      "        [ 1,  1,  1,  1,  1,  1,  0,  0,  0,  0,  0],\n",
      "        [ 1,  1,  1,  1,  1,  1,  1,  0,  0,  0,  0],\n",
      "        [ 1,  1,  1,  1,  1,  1,  1,  1,  0,  0,  0],\n",
      "        [ 1,  1,  1,  1,  1,  1,  1,  1,  1,  0,  0],\n",
      "        [ 1,  1,  1,  1,  1,  1,  1,  1,  1,  1,  0],\n",
      "        [ 1,  1,  1,  1,  1,  1,  1,  1,  1,  1,  1]], dtype=torch.uint8)\n",
      "Doc [ 1]\n",
      "\tsrc: [475, 111, 1631, 20, 11465, 30, 32]\n",
      "\ttrg: [2, 599, 16, 72, 84, 1651, 78, 34, 2595, 31, 3]\n",
      "\tsrc_mask: tensor([ 1,  1,  1,  1,  1,  1,  1], dtype=torch.uint8)\n",
      "\ttrg_mask\n",
      ": tensor([[ 1,  0,  0,  0,  0,  0,  0,  0,  0,  0,  0],\n",
      "        [ 1,  1,  0,  0,  0,  0,  0,  0,  0,  0,  0],\n",
      "        [ 1,  1,  1,  0,  0,  0,  0,  0,  0,  0,  0],\n",
      "        [ 1,  1,  1,  1,  0,  0,  0,  0,  0,  0,  0],\n",
      "        [ 1,  1,  1,  1,  1,  0,  0,  0,  0,  0,  0],\n",
      "        [ 1,  1,  1,  1,  1,  1,  0,  0,  0,  0,  0],\n",
      "        [ 1,  1,  1,  1,  1,  1,  1,  0,  0,  0,  0],\n",
      "        [ 1,  1,  1,  1,  1,  1,  1,  1,  0,  0,  0],\n",
      "        [ 1,  1,  1,  1,  1,  1,  1,  1,  1,  0,  0],\n",
      "        [ 1,  1,  1,  1,  1,  1,  1,  1,  1,  1,  0],\n",
      "        [ 1,  1,  1,  1,  1,  1,  1,  1,  1,  1,  1]], dtype=torch.uint8)\n"
     ]
    }
   ],
   "source": [
    "in_batch = rebatch(pad_idx, batch)\n",
    "print(\"src-mask is of \", in_batch.src_mask.shape)\n",
    "print(\"trg-mask is of \", in_batch.trg_mask.shape)\n",
    "\n",
    "for i in range(2):\n",
    "    \n",
    "    src_doc = [ti_.item() for ti_ in in_batch.src[i]]\n",
    "    trg_doc = [ti_.item() for ti_ in in_batch.trg[i]]\n",
    "    print(\"Doc [{:2d}]\".format(i))\n",
    "    print(\"\\tsrc:\", src_doc)\n",
    "    print(\"\\ttrg:\", trg_doc)\n",
    "    print(\"\\tsrc_mask:\", in_batch.src_mask[0].squeeze())\n",
    "    print(\"\\ttrg_mask:\\n\", in_batch.trg_mask[0])"
   ]
  },
  {
   "cell_type": "markdown",
   "metadata": {},
   "source": [
    "上面的`.unsqueeze(-2)` 是说这个 mask 会 broadcast 到倒数第二个维度。在计算attention的时候：$ K^T V \\cdot M_{src}$ 倒数第二维是每个 token，也即是说对每个decoding阶段的 token 来说，回头去跟input tokens寻找联系的方式都是一样的 —— 跟所有的非填充的input tokens联系。注意这个 mask 在不同的文档间是不一样的，因为填充方式一般不同。所以第一个维度正好是mini-batch的大小。\n",
    "\n",
    "而 trg_mask 代表语言向前产生式的 mask，这对每个 token 都是不一样的。就这个要求来说，对每个文档虽然是一样的，但是其填充的方式却又不同，所以只要全部都列上——其实我觉得有可能可以在做 attention 运算的时候执行两次 mask 操作，一次是对每个文档都一样的 subsequent_masking, 一次是对每个文档分别执行，但是对每个token都一样的去除填充的tokens。"
   ]
  },
  {
   "cell_type": "markdown",
   "metadata": {},
   "source": [
    "## 第一步的数据表示\n",
    "第一步是embedding，即把每个 token 用一个512维向量表示。这一步其实是一个稀疏的线性映射。"
   ]
  },
  {
   "cell_type": "code",
   "execution_count": 18,
   "metadata": {},
   "outputs": [],
   "source": [
    "class Embeddings(nn.Module):\n",
    "    def __init__(self, vocab_size, emb_dim):\n",
    "        super(Embeddings, self).__init__()\n",
    "        self.lut = nn.Embedding(vocab_size, emb_dim)\n",
    "        self.k_ = math.sqrt(emb_dim) # following arxiv.1608.05859\n",
    "        \n",
    "    def forward(self, x):\n",
    "        return self.lut(x) * self.k_\n",
    "    \n",
    "emb_layer = Embeddings(len(SRC.vocab), 512)"
   ]
  },
  {
   "cell_type": "markdown",
   "metadata": {},
   "source": [
    "我们尝试把上面第一个 mini-batch 中的 src 文档用这个 `emd_layer` 处理一下。"
   ]
  },
  {
   "cell_type": "code",
   "execution_count": 57,
   "metadata": {},
   "outputs": [
    {
     "name": "stdout",
     "output_type": "stream",
     "text": [
      "torch.Size([20, 7, 512])\n"
     ]
    }
   ],
   "source": [
    "x = emb_layer(in_batch.src)\n",
    "print(x.shape)"
   ]
  },
  {
   "cell_type": "markdown",
   "metadata": {},
   "source": [
    "结果是 20 个文档，每个文档 7 个 token，每个 token 表示为一个 512 维的向量。"
   ]
  },
  {
   "cell_type": "markdown",
   "metadata": {},
   "source": [
    "## 把位置信息合并进入数据的表示\n",
    "\n",
    "在自然语言中，每个 token （比如单词） 在一句话当中的位置能影响其代表的含义。[example]。所以我们引入一个机制，使得同一个单词在不同位置出现的时候，其编码有所不同。注意在上一步处理过后，每个单词都对应于一个512维的实数值向量。原文还讨论了不少[相关的信息][1]。\n",
    "\n",
    "这里使用的具体方法是引入一个 “positional embedding” (PE) 向量（与原 embedding 同样的格式，512维，最终会加起来）。这个 PE 分作两部分，各256维。分别是256个不同波长的 $sin$ 和 $cos$ 信号。\n",
    "$$\n",
    "V^{PE}_{2i}(p) = \\sin(\\frac{p}{10000^{ \\frac{2i}{512} }})\n",
    "$$\n",
    "奇数维 $V^{PE}_{2i+1}$ 就是把上面的 $\\sin$ 换成 $\\cos$. \n",
    "\n",
    "考虑 PE 整个文档的结果是一个矩阵 $n \\times 512$, n=#.tokens。这里的 $i = [1..256]$ 就是“横穿”每一行的下标 (注意我们用$2i$ 和 $2i+1$)，表示不同的 embed 维度，$p = [1..n]$ 是纵贯每一列的下标，表示每个 token。也即是每个 token 的位置被表示成 512 个实数值，越往后的维度，分母越大，波形变化越慢，越表示对位置不敏感的那些语义。反之，前面的维度对位置敏感，表示的含义与该单词在句子中的位置密切相关。\n",
    "\n",
    "\n",
    "[1]:https://arxiv.org/1705.03122."
   ]
  },
  {
   "cell_type": "code",
   "execution_count": 75,
   "metadata": {},
   "outputs": [],
   "source": [
    "class PositionalEncoding(nn.Module):\n",
    "    def __init__(self, d, dropout=0.1, max_len=5000):\n",
    "        \"\"\"\n",
    "        :param d: embed dimension\n",
    "        \"\"\"\n",
    "        super(PositionalEncoding, self).__init__()\n",
    "        self.dropout_layer = nn.Dropout(dropout)\n",
    "        \n",
    "        # cache enough PE for max_len\n",
    "        pe = torch.zeros(max_len, d)\n",
    "        position = torch.arange(max_len).unsqueeze(1)\n",
    "        div_term = torch.exp(-torch.arange(0, d, 2)/d*math.log(10000))\n",
    "        pe[:, 0::2] = torch.sin(position * div_term)\n",
    "        pe[:, 1::2] = torch.cos(position * div_term)\n",
    "        pe = pe.unsqueeze(0)\n",
    "        self.register_buffer('pe', pe)\n",
    "        \n",
    "    def forward(self, x):\n",
    "        x = x + self.pe[:, :x.shape[1]]\n",
    "        return x\n",
    "        "
   ]
  },
  {
   "cell_type": "code",
   "execution_count": 86,
   "metadata": {
    "collapsed": true
   },
   "outputs": [
    {
     "name": "stdout",
     "output_type": "stream",
     "text": [
      "tensor([[ 0.0000,  0.0000,  0.0000,  0.0000,  0.0000,  0.0000,  0.0000,\n",
      "          0.0000],\n",
      "        [ 1.0000,  0.3162,  0.1000,  0.0316,  0.0100,  0.0032,  0.0010,\n",
      "          0.0003],\n",
      "        [ 2.0000,  0.6325,  0.2000,  0.0632,  0.0200,  0.0063,  0.0020,\n",
      "          0.0006],\n",
      "        [ 3.0000,  0.9487,  0.3000,  0.0949,  0.0300,  0.0095,  0.0030,\n",
      "          0.0009],\n",
      "        [ 4.0000,  1.2649,  0.4000,  0.1265,  0.0400,  0.0126,  0.0040,\n",
      "          0.0013]])\n"
     ]
    }
   ],
   "source": [
    "# Explore the construction of the coefficient matrix\n",
    "print(torch.arange(5).unsqueeze(1) \\\n",
    "    * torch.exp(-torch.arange(0, 512, 64)/512*math.log(10000)))"
   ]
  },
  {
   "cell_type": "markdown",
   "metadata": {},
   "source": [
    "注意在 `x + self.pe[:, :x.shape[1]]` 里面 `[:, ...]` 第一个冒号是为了保留住上面构造 `pe` 的时候特意扩展出来的对应于 sample in mini-batch 的那个维度。\n",
    "\n",
    "\n",
    "注意这个量需要仔细地画图出来检查一下。我第一次实现时带入了一个 bug，在 \n",
    "```\n",
    "div_term = torch.exp(-torch.arange(0, d, 2)/d*math.log(10000))\n",
    "```\n",
    "中漏掉了 `exp(-...)` 中的符号，导致数据形式完全正确，但是在所有的维度上都变化非常剧烈 —— 相当于 `sin` 的频率十分大，大部分维度上甚至大到 `position + 1` 就会跨越超过一个周期，这就失去了这个量作为positional encoding的意义。而单纯的成为噪音。\n",
    "\n",
    "PE这步操作如果对训练有证明的影响，把这项信息设置成了噪音就会降低 __任何__ 方法的表现。而且不可能\n",
    "通过调参数来改善。会对研究和工程造成很大的困扰。"
   ]
  },
  {
   "cell_type": "code",
   "execution_count": 83,
   "metadata": {},
   "outputs": [
    {
     "name": "stdout",
     "output_type": "stream",
     "text": [
      "torch.Size([1, 5000, 512])\n"
     ]
    },
    {
     "data": {
      "image/png": "[encoded data removed]",
      "text/plain": [
       "<matplotlib.figure.Figure at 0x15162efd0>"
      ]
     },
     "metadata": {},
     "output_type": "display_data"
    }
   ],
   "source": [
    "pe_layer = PositionalEncoding(512)\n",
    "print(pe_layer.pe.shape)\n",
    "\n",
    "import matplotlib.pyplot as plt\n",
    "%matplotlib inline\n",
    "plt.clf()\n",
    "for i in range(200, 501, 100):\n",
    "    plt.plot(pe_layer.pe[0][:, i].numpy())\n",
    "plt.show()"
   ]
  },
  {
   "cell_type": "markdown",
   "metadata": {},
   "source": [
    "下面我们试用这样一个位置信息编码器处理上面得到的输入`x`。"
   ]
  },
  {
   "cell_type": "code",
   "execution_count": 85,
   "metadata": {},
   "outputs": [
    {
     "name": "stdout",
     "output_type": "stream",
     "text": [
      "torch.Size([20, 7, 512])\n"
     ]
    }
   ],
   "source": [
    "x1 = pe_layer(x)\n",
    "print(x1.shape)"
   ]
  },
  {
   "cell_type": "markdown",
   "metadata": {},
   "source": [
    "IDEA：看看那个更细小的拆分token（用音节）的工作，如果试图用语言描述图像，限制传输的信息容量。会不会自动产生语言。"
   ]
  },
  {
   "cell_type": "markdown",
   "metadata": {},
   "source": [
    "# Glossary\n",
    "- tensor\n",
    "- token\n",
    "- embed\n",
    "- mini-batch\n"
   ]
  }
 ],
 "metadata": {
  "kernelspec": {
   "display_name": "Python 3",
   "language": "python",
   "name": "python3"
  },
  "language_info": {
   "codemirror_mode": {
    "name": "ipython",
    "version": 3
   },
   "file_extension": ".py",
   "mimetype": "text/x-python",
   "name": "python",
   "nbconvert_exporter": "python",
   "pygments_lexer": "ipython3",
   "version": "3.5.4"
  }
 },
 "nbformat": 4,
 "nbformat_minor": 2
}
